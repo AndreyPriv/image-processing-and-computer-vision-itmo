{
  "nbformat": 4,
  "nbformat_minor": 0,
  "metadata": {
    "colab": {
      "provenance": [],
      "gpuType": "T4"
    },
    "kernelspec": {
      "name": "python3",
      "display_name": "Python 3"
    },
    "language_info": {
      "name": "python"
    },
    "accelerator": "GPU"
  },
  "cells": [
    {
      "cell_type": "code",
      "execution_count": 13,
      "metadata": {
        "colab": {
          "base_uri": "https://localhost:8080/"
        },
        "id": "iW6EkUjzMbZ6",
        "outputId": "342d25d8-7169-4eef-b28f-f2eee4ace932"
      },
      "outputs": [
        {
          "output_type": "stream",
          "name": "stdout",
          "text": [
            "Epoch 1/10, Loss: 0.298988630404075\n",
            "Epoch 2/10, Loss: 0.1280998028231164\n",
            "Epoch 3/10, Loss: 0.0902657144597421\n",
            "Epoch 4/10, Loss: 0.06965407534192006\n",
            "Epoch 5/10, Loss: 0.05513945313838\n",
            "Epoch 6/10, Loss: 0.045026597602448114\n",
            "Epoch 7/10, Loss: 0.03827913554447392\n",
            "Epoch 8/10, Loss: 0.03194658687516737\n",
            "Epoch 9/10, Loss: 0.027726708942636225\n",
            "Epoch 10/10, Loss: 0.02357597431645263\n"
          ]
        }
      ],
      "source": [
        "import torch\n",
        "import torchvision.datasets as datasets\n",
        "import torchvision.transforms as transforms\n",
        "from torch.utils.data import DataLoader, random_split\n",
        "from torch import nn\n",
        "from torch.optim import SGD\n",
        "import random\n",
        "from sklearn.metrics import classification_report, roc_auc_score, accuracy_score, precision_score, recall_score, f1_score\n",
        "import numpy as np\n",
        "from torch.optim import Adam\n",
        "import matplotlib.pyplot as plt\n",
        "\n",
        "# Загрузка данных\n",
        "transform = transforms.Compose([\n",
        "    transforms.ToTensor(),\n",
        "    transforms.Normalize((0.1307,), (0.3081,))\n",
        "])\n",
        "\n",
        "mnist_train = datasets.MNIST(root='./data', train=True, download=True, transform=transform)\n",
        "mnist_test = datasets.MNIST(root='./data', train=False, download=True, transform=transform)\n",
        "\n",
        "# Разделение на обучающую, валидационную и тестовую выборки\n",
        "train_size = int(0.8 * len(mnist_train))\n",
        "val_size = len(mnist_train) - train_size\n",
        "mnist_train, mnist_val = random_split(mnist_train, [train_size, val_size])\n",
        "\n",
        "# Создание загрузчиков данных\n",
        "batch_size = 64\n",
        "train_loader = DataLoader(mnist_train, batch_size=batch_size, shuffle=True)\n",
        "val_loader = DataLoader(mnist_val, batch_size=batch_size, shuffle=False)\n",
        "test_loader = DataLoader(mnist_test, batch_size=batch_size, shuffle=False)\n",
        "\n",
        "# Определение модели Sequential\n",
        "model = nn.Sequential(\n",
        "    nn.Flatten(),\n",
        "    nn.Linear(28*28, 128),\n",
        "    nn.ReLU(),\n",
        "    nn.Linear(128, 64),\n",
        "    nn.ReLU(),\n",
        "    nn.Linear(64, 10)\n",
        ")\n",
        "\n",
        "# Определение функции потерь и оптимизатора\n",
        "criterion = nn.CrossEntropyLoss()\n",
        "optimizer = Adam(model.parameters(), lr=0.001)\n",
        "\n",
        "# Обучение модели\n",
        "num_epochs = 10\n",
        "for epoch in range(num_epochs):\n",
        "    model.train()\n",
        "    epoch_loss = 0.0  # для хранения общей потери на эпохе\n",
        "    for batch_idx, (data, targets) in enumerate(train_loader):\n",
        "        optimizer.zero_grad()\n",
        "        outputs = model(data)\n",
        "        loss = criterion(outputs, targets)\n",
        "        loss.backward()\n",
        "        optimizer.step()\n",
        "\n",
        "        epoch_loss += loss.item()  # добавляем потерю к общей потере на эпохе\n",
        "\n",
        "    # Выводим информацию о потерях после каждой эпохи\n",
        "    print(f'Epoch {epoch+1}/{num_epochs}, Loss: {epoch_loss / len(train_loader)}')\n",
        "\n",
        "# Классификация случайных изображений из тестового набора\n",
        "model.eval()\n",
        "random_indices = random.sample(range(len(mnist_test)), 100)\n",
        "# Списки для хранения истинных меток и предсказанных меток\n",
        "true_labels = []\n",
        "predicted_labels = []\n",
        "\n",
        "# Получение предсказаний для выбранных 100 изображений\n",
        "for index in random_indices:\n",
        "    image, label = mnist_test[index]\n",
        "    image = image.unsqueeze(0)  # добавляем размерность батча\n",
        "    output = model(image)\n",
        "    predicted_label = torch.argmax(output, dim=1).item()\n",
        "    true_labels.append(label)\n",
        "    predicted_labels.append(predicted_label)\n",
        "\n",
        "# Преобразование в numpy массивы\n",
        "true_labels = np.array(true_labels)\n",
        "predicted_labels = np.array(predicted_labels)"
      ]
    },
    {
      "cell_type": "code",
      "source": [
        "accuracy = accuracy_score(true_labels, predicted_labels)\n",
        "precision = precision_score(true_labels, predicted_labels, average='macro')\n",
        "recall = recall_score(true_labels, predicted_labels, average='macro')\n",
        "f1 = f1_score(true_labels, predicted_labels, average='macro')"
      ],
      "metadata": {
        "id": "i5B9hREnRFbN"
      },
      "execution_count": 14,
      "outputs": []
    },
    {
      "cell_type": "code",
      "source": [
        "# Вывод результатов\n",
        "print(f\"Accuracy: {accuracy}\")\n",
        "print(f\"Precision: {precision}\")\n",
        "print(f\"Recall: {recall}\")\n",
        "print(f\"F1 score: {f1}\")"
      ],
      "metadata": {
        "colab": {
          "base_uri": "https://localhost:8080/"
        },
        "id": "fiH9ojWZRIXl",
        "outputId": "0500a22f-5c6a-4e2c-d989-886936c88ff9"
      },
      "execution_count": 15,
      "outputs": [
        {
          "output_type": "stream",
          "name": "stdout",
          "text": [
            "Accuracy: 0.99\n",
            "Precision: 0.9888888888888889\n",
            "Recall: 0.9923076923076923\n",
            "F1 score: 0.9901176470588237\n"
          ]
        }
      ]
    },
    {
      "cell_type": "code",
      "source": [
        "# Выберем случайное изображение из тестового набора данных\n",
        "index = np.random.randint(len(mnist_test))\n",
        "image, label = mnist_test[index]\n",
        "image = image.unsqueeze(0)  # добавляем размерность батча\n",
        "\n",
        "# Получим предсказание модели для этого изображения\n",
        "model.eval()\n",
        "with torch.no_grad():\n",
        "    output = model(image)\n",
        "    predicted_label = torch.argmax(output, dim=1).item()\n",
        "\n",
        "# Отобразим изображение и его предсказание\n",
        "plt.imshow(image.squeeze().numpy(), cmap='gray')\n",
        "plt.title(f'True Label: {label}, Predicted Label: {predicted_label}')\n",
        "plt.axis('off')\n",
        "plt.show()"
      ],
      "metadata": {
        "colab": {
          "base_uri": "https://localhost:8080/",
          "height": 428
        },
        "id": "v-n4-OKOSmRl",
        "outputId": "0473b56f-1d8a-4ea8-a574-19ec1c40bc33"
      },
      "execution_count": 16,
      "outputs": [
        {
          "output_type": "display_data",
          "data": {
            "text/plain": [
              "<Figure size 640x480 with 1 Axes>"
            ],
            "image/png": "[encoded data removed]"
          },
          "metadata": {}
        }
      ]
    }
  ]
}